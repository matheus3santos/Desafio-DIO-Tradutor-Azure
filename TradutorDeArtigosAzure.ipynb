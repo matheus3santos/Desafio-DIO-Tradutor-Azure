{
  "nbformat": 4,
  "nbformat_minor": 0,
  "metadata": {
    "colab": {
      "provenance": []
    },
    "kernelspec": {
      "name": "python3",
      "display_name": "Python 3"
    },
    "language_info": {
      "name": "python"
    }
  },
  "cells": [
    {
      "cell_type": "code",
      "execution_count": 13,
      "metadata": {
        "colab": {
          "base_uri": "https://localhost:8080/",
          "height": 192
        },
        "id": "8h5kUukaye6V",
        "outputId": "5661791c-52c9-4fcc-d2a2-eda179aa3cfe"
      },
      "outputs": [
        {
          "output_type": "execute_result",
          "data": {
            "text/plain": [
              "'A causal theory for studying the cause-and-effect relationships of genes | MIT News | Massachusetts Institute of Technology\\nSkip to content ↓\\nMassachusetts Institute of Technology\\nMIT Top\\nMenu ↓\\nEducation\\nResearch\\nInnovation\\nAdmissions + Aid\\nCampus Life\\nNews\\nAlumni\\nAbout MIT\\nMore\\n↓\\nSearch MIT\\nSearch websites, locations, and people\\nSee More Results\\nSuggestions or feedback?\\nMIT News | Massachusetts Institute of Technology\\nSubscribe\\nto MIT News newsletter\\nBrowse\\nEnter keywords to search for news articles:\\nSubmit\\nBrowse By\\nTopics\\nView All\\n→\\nExplore:\\nMachine learning\\nSustainability\\nStartups\\nBlack holes\\nClasses and programs\\nDepartments\\nView All\\n→\\nExplore:\\nAeronautics and Astronautics\\nBrain and Cognitive Sciences\\nArchitecture\\nPolitical Science\\nMechanical Engineering\\nCenters, Labs, & Programs\\nView All\\n→\\nExplore:\\nAbdul Latif Jameel Poverty Action Lab (J-PAL)\\nPicower Institute for Learning and Memory\\nMedia Lab\\nLincoln Laboratory\\nSchools\\nSchool of Architecture + Planning\\nSchool of Engineering\\nSchool of Humanities, Arts, and Social Sciences\\nSloan School of Management\\nSchool of Science\\nMIT Schwarzman College of Computing\\nView all news coverage of MIT in the media\\n→\\nListen to audio content from MIT News\\n→\\nSubscribe to MIT newsletter\\n→\\nClose\\nBreadcrumb\\nMIT News\\nA causal theory for studying the cause-and-effect relationships of genes\\nA causal theory for studying the cause-and-effect relationships of genes\\nBy sidestepping the need for costly interventions, a new method could potentially reveal gene regulatory programs, paving the way for targeted treatments.\\nAdam Zewe\\n|\\nMIT News\\nPublication Date :\\nNovember 7, 2024\\nPress Inquiries\\nPress Contact :\\nMelanie\\nGrados\\nEmail:\\nmgrados@mit.edu\\nPhone:\\n617-253-1682\\nMIT News Office\\nMedia Download\\n↓\\nDownload Image\\nCaption :\\nThe new method could identify the best way to aggregate genes into related groups so researchers can efficiently learn the underlying cause-and-effect relationships between many genes.\\nCredits :\\nImage: Jose-Luis Olivares, MIT; iStock\\n*Terms of Use:\\nImages for download on the MIT News office website are made available to non-commercial entities, press and the general public under a\\nCreative Commons Attribution Non-Commercial No Derivatives license .\\nYou may not alter the images provided, other than to crop them to size. A credit line must be used when reproducing images; if one is not provided\\nbelow, credit the images to \"MIT.\"\\nClose\\nCaption :\\nThe new method could identify the best way to aggregate genes into related groups so researchers can efficiently learn the underlying cause-and-effect relationships between many genes.\\nCredits :\\nImage: Jose-Luis Olivares, MIT; iStock\\nPrevious image\\nNext image\\nBy studying changes in gene expression, researchers learn how cells function at a molecular level, which could help them understand the development of certain diseases. But a human has about 20,000 genes that can affect each other in complex ways, so even knowing which groups of genes to target is an enormously complicated problem. Also, genes work together in modules that regulate each other. MIT researchers have now developed theoretical foundations for methods that could identify the best way to aggregate genes into related groups so they can efficiently learn the underlying cause-and-effect relationships between many genes. Importantly, this new method accomplishes this using only observational data. This means researchers don’t need to perform costly, and sometimes infeasible, interventional experiments to obtain the data needed to infer the underlying causal relationships. In the long run, this technique could help scientists identify potential gene targets to induce certain behavior in a more accurate and efficient manner, potentially enabling them to develop precise treatments for patients. “In genomics, it is very important to understand the mechanism underlying cell states. But cells have a multiscale structure, so the level of summarization is very important, too. If you figure out the right way to aggregate the observed data, the information you learn about the system should be more interpretable and useful,” says graduate student Jiaqi Zhang, an Eric and Wendy Schmidt Center Fellow and co-lead author of a\\npaper on this technique . Zhang is joined on the paper by co-lead author Ryan Welch, currently a master’s student in engineering; and senior author Caroline Uhler, a professor in the Department of Electrical Engineering and Computer Science (EECS) and the Institute for Data, Systems, and Society (IDSS) who is also director of the Eric and Wendy Schmidt Center at the Broad Institute of MIT and Harvard, and a researcher at MIT’s Laboratory for Information and Decision Systems (LIDS). The research will be presented at the Conference on Neural Information Processing Systems. Learning from observational data The problem the researchers set out to tackle involves learning programs of genes. These programs describe which genes function together to regulate other genes in a biological process, such as cell development or differentiation. Since scientists can’t efficiently study how all 20,000 genes interact, they use a technique called causal disentanglement to learn how to combine related groups of genes into a representation that allows them to efficiently explore cause-and-effect relationships. In previous work, the researchers demonstrated how this could be done effectively in the presence of interventional data, which are data obtained by perturbing variables in the network. But it is often expensive to conduct interventional experiments, and there are some scenarios where such experiments are either unethical or the technology is not good enough for the intervention to succeed. With only observational data, researchers can’t compare genes before and after an intervention to learn how groups of genes function together. “Most research in causal disentanglement assumes access to interventions, so it was unclear how much information you can disentangle with just observational data,” Zhang says. The MIT researchers developed a more general approach that uses a machine-learning algorithm to effectively identify and aggregate groups of observed variables, e.g., genes, using only observational data. They can use this technique to identify causal modules and reconstruct an accurate underlying representation of the cause-and-effect mechanism. “While this research was motivated by the problem of elucidating cellular programs, we first had to develop novel causal theory to understand what could and could not be learned from observational data. With this theory in hand, in future work we can apply our understanding to genetic data and identify gene modules as well as their regulatory relationships,” Uhler says. A layerwise representation Using statistical techniques, the researchers can compute a mathematical function known as the variance for the Jacobian of each variable’s score. Causal variables that don’t affect any subsequent variables should have a variance of zero. The researchers reconstruct the representation in a layer-by-layer structure, starting by removing the variables in the bottom layer that have a variance of zero. Then they work backward, layer-by-layer, removing the variables with zero variance to determine which variables, or groups of genes, are connected. “Identifying the variances that are zero quickly becomes a combinatorial objective that is pretty hard to solve, so deriving an efficient algorithm that could solve it was a major challenge,” Zhang says. In the end, their method outputs an abstracted representation of the observed data with layers of interconnected variables that accurately summarizes the underlying cause-and-effect structure. Each variable represents an aggregated group of genes that function together, and the relationship between two variables represents how one group of genes regulates another. Their method effectively captures all the information used in determining each layer of variables. After proving that their technique was theoretically sound, the researchers conducted simulations to show that the algorithm can efficiently disentangle meaningful causal representations using only observational data. In the future, the researchers want to apply this technique in real-world genetics applications. They also want to explore how their method could provide additional insights in situations where some interventional data are available, or help scientists understand how to design effective genetic interventions. In the future, this method could help researchers more efficiently determine which genes function together in the same program, which could help identify drugs that could target those genes to treat certain diseases. This research is funded, in part, by the U.S. Office of Naval Research, the National Institutes of Health, the U.S. Department of Energy, a Simons Investigator Award, the Eric and Wendy Schmidt Center at the Broad Institute, the Advanced Undergraduate Research Opportunities Program at MIT, and an Apple AI/ML PhD Fellowship.\\nShare\\nthis news article on:\\nX\\nFacebook\\nLinkedIn\\nReddit\\nPrint\\nPaper\\nPaper: “Identifiability Guarantees for Causal Disentanglement from Purely Observational Data”\\nRelated Links\\nCaroline Uhler Laboratory for Information and Decision Systems Institute for Data, Systems, and Society Department of Electrical Engineering and Computer Science School of Engineering MIT Schwarzman College of Computing Broad Institute\\nRelated Topics\\nResearch\\nComputer science and technology\\nArtificial intelligence\\nMachine learning\\nAlgorithms\\nData\\nCells\\nGenetics\\nGenetic engineering\\nBiological engineering\\nIDSS\\nLaboratory for Information and Decision Systems (LIDS)\\nElectrical engineering and computer science (EECS)\\nSchool of Engineering\\nMIT Schwarzman College of Computing\\nBroad Institute\\nRelated Articles\\nA more effective experimental design for engineering a cell into a new state\\nA method for designing neural networks optimally suited for certain tasks\\nAI model can help determine where a patient’s cancer arose\\nUsing AI, scientists find a drug that could combat drug-resistant infections\\nPrevious item\\nNext item\\nMore MIT News\\nLinzixuan (Rhoda) Zhang wins 2024 Collegiate Inventors Competition\\nMIT graduate student earns top honors in Graduate and People’s Choice categories for her work on nutrient-stabilizing materials.\\nRead full story\\n→\\nDancing with currents and waves in the Maldives\\nCollaborating with a local climate technology company, MIT’s Self-Assembly Lab is pursuing scalable erosion solutions that mimic nature, harnessing ocean currents to expand islands and rebuild coastlines.\\nRead full story\\n→\\nSchool of Engineering faculty receive awards in summer 2024\\nMembers of MIT’s School of Engineering were honored in recognition of their scholarship, service, and overall excellence in the summer of 2024.\\nRead full story\\n→\\nBringing lab testing to the home\\nThe startup SiPhox, founded by two former MIT researchers, has developed an integrated photonic chip for high-quality, home-based blood testing.\\nRead full story\\n→\\nStopping the bomb\\nPolitical science PhD student Kunal Singh identifies a suite of strategies states use to prevent other nations from developing nuclear weapons.\\nRead full story\\n→\\nSamurai in Japan, then engineers at MIT\\nA new exhibit explores the Institute’s first Japanese students, who arrived as MIT was taking flight and their own country was opening up.\\nRead full story\\n→\\nMore news on MIT News homepage\\n→\\nMore about MIT News at Massachusetts Institute of Technology\\nThis website is managed by the MIT News Office, part of the\\nInstitute Office of Communications .\\nNews by Schools/College:\\nSchool of Architecture and Planning\\nSchool of Engineering\\nSchool of Humanities, Arts, and Social Sciences\\nMIT Sloan School of Management\\nSchool of Science\\nMIT Schwarzman College of Computing\\nResources:\\nAbout the MIT News Office\\nMIT News Press Center\\nTerms of Use\\nPress Inquiries\\nFilming Guidelines\\nRSS Feeds\\nTools:\\nSubscribe to MIT Daily/Weekly\\nSubscribe to press releases\\nSubmit campus news\\nGuidelines for campus news contributors\\nGuidelines on generative AI\\nMassachusetts Institute of Technology\\nMIT Top Level Links:\\nEducation\\nResearch\\nInnovation\\nAdmissions + Aid\\nCampus Life\\nNews\\nAlumni\\nAbout MIT\\nJoin us in building a better world.\\nMassachusetts Institute of Technology 77 Massachusetts Avenue, Cambridge, MA, USA\\nRecommended Links:\\nVisit\\nMap\\n(opens in new window)\\nEvents\\n(opens in new window)\\nPeople\\n(opens in new window)\\nCareers\\n(opens in new window)\\nContact\\nPrivacy\\nAccessibility\\nSocial Media Hub\\nMIT on X\\nMIT on Facebook\\nMIT on YouTube\\nMIT on Instagram'"
            ],
            "application/vnd.google.colaboratory.intrinsic+json": {
              "type": "string"
            }
          },
          "metadata": {},
          "execution_count": 13
        }
      ],
      "source": [
        "pip install -qU langchain-openai\n",
        "\n",
        "import requests\n",
        "from bs4 import BeautifulSoup\n",
        "\n",
        "def extract_text_from_url(url):\n",
        "\n",
        "  response = requests.get(url)\n",
        "\n",
        "  if response.status_code == 200:\n",
        "    soup = BeautifulSoup(response.text, 'html.parser')\n",
        "    for script_or_style in soup(['script', 'style']):\n",
        "      script_or_style.decompose()\n",
        "    texto = soup.get_text(separator = ' ')\n",
        "\n",
        "    #Limpar texto\n",
        "    linhas = (line.strip() for line in texto.splitlines())\n",
        "    parts = (phrase.strip() for line in linhas for phrase in line.split(\"  \"))\n",
        "    texto_limpo = '\\n'. join(part for part in parts if part)\n",
        "    return texto_limpo\n",
        "\n",
        "  else:\n",
        "    print(f\"Failed to fetch the URL. Status Code: {response.status_code}\")\n",
        "    return None\n",
        "\n",
        "\n",
        "  text = soup.get_text()\n",
        "  return text\n",
        "\n",
        "extract_text_from_url('https://news.mit.edu/2024/causal-theory-studying-cause-and-effect-relationships-genes-1107')"
      ]
    },
    {
      "cell_type": "code",
      "source": [
        "from langchain_openai.chat_models.azure import AzureChatOpenAI\n",
        "\n",
        "client = AzureChatOpenAI(\n",
        "    azure_endpoint = \"[ENDPOINT DO AZURE OPENAI]\",\n",
        "    api_key = \"[SUA KEY AQUI]\",\n",
        "    api_version = \"2024-02-15-preview(RECOMENDO USAR ESSA VERSÃO)\",\n",
        "    deployment_name = \"[MODELO QUE ESTÁ USANDO O OPEN AI]\",\n",
        "    max_retries=0\n",
        ")\n",
        "\n",
        "def translate_article(text, lang):\n",
        "  messages = [\n",
        "      (\"system\", \"Você atua como tradutor de textos\"),\n",
        "      (\"user\", f\"Traduza o {text} para o idioma {lang} e responda em markdown\")\n",
        "  ]\n",
        "\n",
        "  response = client.invoke(messages)\n",
        "  print(response.content)\n",
        "  return response.content\n",
        "\n",
        "translate_article(\"let's see if the deployment was succeede.\", \"portuguese\")"
      ],
      "metadata": {
        "colab": {
          "base_uri": "https://localhost:8080/",
          "height": 87
        },
        "id": "xsQO-Gg3_MN_",
        "outputId": "323bd26b-36b9-43b8-beb9-931ac8e564d6"
      },
      "execution_count": 34,
      "outputs": [
        {
          "output_type": "stream",
          "name": "stdout",
          "text": [
            "```markdown\n",
            "Vamos ver se a implementação foi bem-sucedida.\n",
            "```\n"
          ]
        },
        {
          "output_type": "execute_result",
          "data": {
            "text/plain": [
              "'```markdown\\nVamos ver se a implementação foi bem-sucedida.\\n```'"
            ],
            "application/vnd.google.colaboratory.intrinsic+json": {
              "type": "string"
            }
          },
          "metadata": {},
          "execution_count": 34
        }
      ]
    },
    {
      "cell_type": "code",
      "source": [
        "url = 'DIGITE AQUI O ARTIGO QUE DESEJA TRADUZIR'\n",
        "text = extract_text_from_url(url)\n",
        "article = translate_article(text, \"pt-br\")\n",
        "\n",
        "print(article)"
      ],
      "metadata": {
        "id": "MfdXL-vaJ31E"
      },
      "execution_count": null,
      "outputs": []
    }
  ]
}